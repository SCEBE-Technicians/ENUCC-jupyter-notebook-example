{
 "cells": [
  {
   "cell_type": "code",
   "execution_count": 62,
   "id": "ec410df7-1732-4244-be42-64c350a07569",
   "metadata": {},
   "outputs": [],
   "source": [
    "import numpy as np\n",
    "import matplotlib.pyplot as plt\n",
    "import time"
   ]
  },
  {
   "cell_type": "code",
   "execution_count": 63,
   "id": "ef505517-7ccd-4c90-a2bf-d3f7f3149c96",
   "metadata": {},
   "outputs": [],
   "source": [
    "n_points = 30\n",
    "noise_coefficient = 0.3"
   ]
  },
  {
   "cell_type": "code",
   "execution_count": 64,
   "id": "b3bc2aa9-2d63-4b7f-b5ee-c0231409460b",
   "metadata": {},
   "outputs": [],
   "source": [
    "rng = np.random.default_rng()\n",
    "x = rng.random(30) * 2 * np.pi\n",
    "y = np.sin(x) + rng.random(30) * 0.4"
   ]
  },
  {
   "cell_type": "code",
   "execution_count": 65,
   "id": "0c025bdd-6506-4d8b-8564-63f437874e66",
   "metadata": {},
   "outputs": [
    {
     "data": {
      "text/plain": [
       "(-0.09923355719300825,\n",
       " 6.517342623000525,\n",
       " -1.074661511918361,\n",
       " 1.4498654426899062)"
      ]
     },
     "execution_count": 65,
     "metadata": {},
     "output_type": "execute_result"
    },
    {
     "data": {
      "image/png": "[encoded data removed]",
      "text/plain": [
       "<Figure size 640x480 with 1 Axes>"
      ]
     },
     "metadata": {},
     "output_type": "display_data"
    }
   ],
   "source": [
    "plt.scatter(x,y)\n",
    "plt.xticks([])\n",
    "plt.yticks([])\n",
    "plt.axis(False)"
   ]
  },
  {
   "cell_type": "code",
   "execution_count": 66,
   "id": "1c3e6e09-b70a-4022-9867-92b65f922884",
   "metadata": {},
   "outputs": [
    {
     "data": {
      "text/plain": [
       "<Figure size 640x480 with 0 Axes>"
      ]
     },
     "metadata": {},
     "output_type": "display_data"
    }
   ],
   "source": [
    "plt.savefig(f\"figures/{time.time_ns()}.svg\")"
   ]
  },
  {
   "cell_type": "code",
   "execution_count": null,
   "id": "f5e90c2f-6c79-496b-b194-b9b52bf78e84",
   "metadata": {},
   "outputs": [],
   "source": []
  }
 ],
 "metadata": {
  "kernelspec": {
   "display_name": "Python 3 (ipykernel)",
   "language": "python",
   "name": "python3"
  },
  "language_info": {
   "codemirror_mode": {
    "name": "ipython",
    "version": 3
   },
   "file_extension": ".py",
   "mimetype": "text/x-python",
   "name": "python",
   "nbconvert_exporter": "python",
   "pygments_lexer": "ipython3",
   "version": "3.12.3"
  }
 },
 "nbformat": 4,
 "nbformat_minor": 5
}
